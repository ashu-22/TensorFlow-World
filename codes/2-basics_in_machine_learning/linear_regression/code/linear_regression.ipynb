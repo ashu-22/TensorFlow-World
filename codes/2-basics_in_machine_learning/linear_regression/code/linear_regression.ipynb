{
 "cells": [
  {
   "cell_type": "code",
   "execution_count": 1,
   "metadata": {
    "collapsed": true
   },
   "outputs": [],
   "source": [
    "import numpy as np\n",
    "import matplotlib.pyplot as plt\n",
    "import tensorflow as tf\n",
    "import xlrd\n",
    "import matplotlib.pyplot as plt\n",
    "import os\n",
    "from sklearn.utils import check_random_state"
   ]
  },
  {
   "cell_type": "code",
   "execution_count": 2,
   "metadata": {
    "collapsed": true
   },
   "outputs": [],
   "source": [
    "# Generating artificial data.\n",
    "n = 50\n",
    "XX = np.arange(n)\n",
    "rs = check_random_state(0)\n",
    "YY = rs.randint(-10, 10, size=(n,)) + 2.0 * XX\n",
    "data = np.stack([XX,YY], axis=1)"
   ]
  },
  {
   "cell_type": "code",
   "execution_count": 3,
   "metadata": {
    "collapsed": true
   },
   "outputs": [],
   "source": [
    "#######################\n",
    "## Defining flags #####\n",
    "#######################\n",
    "\n",
    "num_epochs = 5"
   ]
  },
  {
   "cell_type": "code",
   "execution_count": 4,
   "metadata": {
    "collapsed": true
   },
   "outputs": [],
   "source": [
    "# creating the weight and bias.\n",
    "# The defined variables will be initialized to zero.\n",
    "W = tf.Variable(0.0, name=\"weights\")\n",
    "b = tf.Variable(0.0, name=\"bias\")"
   ]
  },
  {
   "cell_type": "code",
   "execution_count": 5,
   "metadata": {
    "collapsed": true
   },
   "outputs": [],
   "source": [
    "###############################\n",
    "##### Necessary functions #####\n",
    "###############################\n",
    "\n",
    "#  Creating placeholders for input X and label Y.\n",
    "def inputs():\n",
    "    \"\"\"\n",
    "    Defining the place_holders.\n",
    "    :return:\n",
    "            Returning the data and label place holders.\n",
    "    \"\"\"\n",
    "    X = tf.placeholder(tf.float32, name=\"X\")\n",
    "    Y = tf.placeholder(tf.float32, name=\"Y\")\n",
    "    return X,Y\n",
    "\n",
    "# Create the prediction.\n",
    "def inference(X):\n",
    "    \"\"\"\n",
    "    Forward passing the X.\n",
    "    :param X: Input.\n",
    "    :return: X*W + b.\n",
    "    \"\"\"\n",
    "    return X * W + b\n",
    "\n",
    "def loss(X, Y):\n",
    "    '''\n",
    "    compute the loss by comparing the predicted value to the actual label.\n",
    "    :param X: The input.\n",
    "    :param Y: The label.\n",
    "    :return: The loss over the samples.\n",
    "    '''\n",
    "\n",
    "    # Making the prediction.\n",
    "    Y_predicted = inference(X)\n",
    "    return tf.squared_difference(Y, Y_predicted)\n",
    "\n",
    "\n",
    "# The training function.\n",
    "def train(loss):\n",
    "    learning_rate = 0.0001\n",
    "    return tf.train.GradientDescentOptimizer(learning_rate).minimize(loss)"
   ]
  },
  {
   "cell_type": "code",
   "execution_count": 6,
   "metadata": {
    "collapsed": false
   },
   "outputs": [
    {
     "name": "stdout",
     "output_type": "stream",
     "text": [
      "epoch 1, loss=5.052377\n",
      "epoch 2, loss=5.002597\n",
      "epoch 3, loss=5.002904\n",
      "epoch 4, loss=5.003245\n",
      "epoch 5, loss=5.003587\n"
     ]
    }
   ],
   "source": [
    "with tf.Session() as sess:\n",
    "\n",
    "    # Initialize the variables[w and b].\n",
    "    sess.run(tf.global_variables_initializer())\n",
    "\n",
    "    # Get the input tensors\n",
    "    X, Y = inputs()\n",
    "\n",
    "    # Return the train loss and create the train_op.\n",
    "    train_loss = loss(X, Y)\n",
    "    train_op = train(train_loss)\n",
    "\n",
    "    # Step 8: train the model\n",
    "    for epoch_num in range(num_epochs): # run 100 epochs\n",
    "        for x, y in data:\n",
    "          train_op = train(train_loss)\n",
    "\n",
    "          # Session runs train_op to minimize loss\n",
    "          loss_value,_ = sess.run([train_loss,train_op], feed_dict={X: x, Y: y})\n",
    "\n",
    "        # Displaying the loss per epoch.\n",
    "        print('epoch %d, loss=%f' %(epoch_num+1, loss_value))\n",
    "\n",
    "        # save the values of weight and bias\n",
    "        wcoeff, bias = sess.run([W, b])"
   ]
  },
  {
   "cell_type": "code",
   "execution_count": 7,
   "metadata": {
    "collapsed": false
   },
   "outputs": [
    {
     "data": {
      "image/png": "[encoded data removed]",
      "text/plain": [
       "<matplotlib.figure.Figure at 0x7ffa7e44f410>"
      ]
     },
     "metadata": {},
     "output_type": "display_data"
    }
   ],
   "source": [
    "###############################\n",
    "#### Evaluate and plot ########\n",
    "###############################\n",
    "Input_values = data[:,0]\n",
    "Labels = data[:,1]\n",
    "Prediction_values = data[:,0] * wcoeff + bias\n",
    "\n",
    "# uncomment if plotting is desired!\n",
    "plt.plot(Input_values, Labels, 'ro', label='main')\n",
    "plt.plot(Input_values, Prediction_values, label='Predicted')\n",
    "\n",
    "# Saving the result.\n",
    "plt.legend()\n",
    "plt.show()\n",
    "plt.close()"
   ]
  },
  {
   "cell_type": "code",
   "execution_count": null,
   "metadata": {
    "collapsed": true
   },
   "outputs": [],
   "source": []
  }
 ],
 "metadata": {
  "kernelspec": {
   "display_name": "Python 2",
   "language": "python",
   "name": "python2"
  },
  "language_info": {
   "codemirror_mode": {
    "name": "ipython",
    "version": 2
   },
   "file_extension": ".py",
   "mimetype": "text/x-python",
   "name": "python",
   "nbconvert_exporter": "python",
   "pygments_lexer": "ipython2",
   "version": "2.7.13"
  }
 },
 "nbformat": 4,
 "nbformat_minor": 2
}
